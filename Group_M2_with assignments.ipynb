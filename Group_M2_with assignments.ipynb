{
 "cells": [
  {
   "cell_type": "markdown",
   "metadata": {},
   "source": [
    "<a href=\"https://www.bigdatauniversity.com\"><img src = \"https://ibm.box.com/shared/static/wbqvbi6o6ip0vz55ua5gp17g4f1k7ve9.png\" width = 300, align = \"center\"></a>\n",
    "\n",
    "<h1 align=center><font size = 5>Data Analysis with Python</font></h1>"
   ]
  },
  {
   "cell_type": "markdown",
   "metadata": {},
   "source": [
    "# Module 2 Data Wrangling\n",
    "### welcome!\n",
    "\n",
    "In this section, you will learn how to deal with missing data, data standardization/normalization/binning, and how to create indicator variables by Pandas Library. \n",
    "<div>At the end of this section, you will master the basic rules for data wrangling, and obtain a cleaned dataset for further analysis.</div>\n"
   ]
  },
  {
   "cell_type": "markdown",
   "metadata": {},
   "source": [
    "## Table of content\n",
    "\n",
    "<div class=\"alert alert-block alert-info\" style=\"margin-top: 20px\">\n",
    "<li><a href=\"#ref1\">Indentify and handle missing values</a>\n",
    "<ul><div><a href=\"#ref2\">- Indentify missing values</a></div>\n",
    "<div><a href=\"#ref3\">- Deal with missing values</a></div>\n",
    "<div><a href=\"#ref4\">- Correct data format</a></div></ul></li>\n",
    "<p></p>\n",
    "<li><a href=\"#ref5\"><p>Data standardization</p></a></li>\n",
    "<li><a href=\"#ref6\"><p>Data Normalization (centring/scaling)</p></a></li>\n",
    "<li><a href=\"#ref7\"><p></p>Binning</a></li>\n",
    "<li><a href=\"#ref8\"><p>Indicator variable</p></a></li>\n",
    "<p></p>\n",
    "Estimated Time Needed: <strong>20 min</strong>\n",
    "</div>\n",
    "\n",
    "\n",
    "\n",
    " \n",
    "<hr>"
   ]
  },
  {
   "cell_type": "markdown",
   "metadata": {},
   "source": [
    "# Read data\n",
    "In this case, the data comes from the website below,\n",
    "\n",
    "data source: https://archive.ics.uci.edu/ml/machine-learning-databases/autos/imports-85.data\n",
    "<div>data type: csv</div>"
   ]
  },
  {
   "cell_type": "code",
   "execution_count": null,
   "metadata": {
    "collapsed": false
   },
   "outputs": [],
   "source": [
    "import pandas as pd\n",
    "\n",
    "!wget  --quiet --output-document df.csv  https://www.dropbox.com/s/txx7qeekqquyw23/df.csv?dl=0\n",
    "    \n",
    "# read csv file\n",
    "df = pd.read_csv(\"df.csv\")\n",
    "\n",
    "# show the first 5 rows of dataset\n",
    "df.head(5)"
   ]
  },
  {
   "cell_type": "markdown",
   "metadata": {},
   "source": [
    "As we can see, several question marks appeared in the dataframe, those are missing values which may hinder our further analysis. \n",
    "<div>So, how do we indentify all those missing values and deal with them?</div> "
   ]
  },
  {
   "cell_type": "markdown",
   "metadata": {},
   "source": [
    "<a id=\"ref1\"></a>\n",
    "#  Indentify and handle missing values\n",
    "**How to work with missing data?**\n",
    "\n",
    "Steps for working with missing data in Python:\n",
    "1. indentify missing data\n",
    "2. deal with missing data\n",
    "3. correct data format\n",
    "\n",
    "<a id=\"ref2\"></a>\n",
    "## Indentify missing data\n",
    "### Convert \"?\" to NaN\n",
    "In this dataset, missing data comes with the question mark \"?\". \n",
    "\n",
    "First spet is to replace \"?\" to NaN, which is a default missing value marker for reasons of computational speed and convenience. Here we use function <pre>.replace(A, B, inplace = True) </pre>\n",
    "to replace A by B"
   ]
  },
  {
   "cell_type": "code",
   "execution_count": null,
   "metadata": {
    "collapsed": false
   },
   "outputs": [],
   "source": [
    "import numpy as np\n",
    "\n",
    "# replace \"?\" to NaN\n",
    "df.replace(\"?\", np.nan, inplace = True)\n",
    "df.head(5)"
   ]
  },
  {
   "cell_type": "markdown",
   "metadata": {},
   "source": [
    "### Evaluating for Missing Data\n",
    "\n",
    "There are 2 methods to detect missing data,\n",
    "1.  <pre>.isnull()</pre>\n",
    "2.  <pre>.notnull()</pre>\n",
    "\n",
    "The output is a boolean value indicating whether the passed in argument value is in fact missing data.\n"
   ]
  },
  {
   "cell_type": "code",
   "execution_count": null,
   "metadata": {
    "collapsed": false
   },
   "outputs": [],
   "source": [
    "missing_data = df.isnull()\n",
    "missing_data.head(5)"
   ]
  },
  {
   "cell_type": "markdown",
   "metadata": {},
   "source": [
    "\"True\" stands for missing value, while \"False\" stands for not missing value."
   ]
  },
  {
   "cell_type": "markdown",
   "metadata": {},
   "source": [
    "### Count missing values in each column\n",
    "Using a for loop in Python, we can easily figure out how many missing data in each column (As mentioned above, \"True\" = missing value, \"False\" = not missing value.)"
   ]
  },
  {
   "cell_type": "code",
   "execution_count": null,
   "metadata": {
    "collapsed": false
   },
   "outputs": [],
   "source": [
    "for row in missing_data.columns.values.tolist():\n",
    "    print row\n",
    "    print (missing_data[row].value_counts())\n",
    "    print \"\""
   ]
  },
  {
   "cell_type": "markdown",
   "metadata": {},
   "source": [
    "Based on the summary above, each column has 205 rows of data, and there are 7 columns contain missing data:\n",
    "\n",
    "1. \"normalized-losses\": 41 missing data\n",
    "2. \"num-of-doors\": 2 missing data\n",
    "3. \"bore\": 4 missing data\n",
    "4. \"stroke\" : 4 missing data\n",
    "5. \"horsepower\": 2 missing data\n",
    "6. \"peak-rpm\": 2 missing data\n",
    "7. \"price\": 4 missing data"
   ]
  },
  {
   "cell_type": "markdown",
   "metadata": {},
   "source": [
    "<a id=\"ref3\"></a>\n",
    "## Deal with missing data\n",
    "**How to deal with missing data?**\n",
    "\n",
    "Usually, there are 2 ways to deal with missing data: \n",
    "    \n",
    "    1. drop data \n",
    "        a. drop the whole row\n",
    "        b. drop the whole column\n",
    "    2. replace data\n",
    "        a. replace it by mean\n",
    "        b. replace it by frequency\n",
    "        c. replace it by 0\n",
    "        c. replace it based on other functions"
   ]
  },
  {
   "cell_type": "markdown",
   "metadata": {},
   "source": [
    "According to this dataset, there are the ways to deal with each column,\n",
    "\n",
    "**Replace by mean:**\n",
    "\n",
    "    \"normalized-losses\": 41 missing data, replace them by mean\n",
    "    \"stroke\": 4 missing data, replace them by mean\n",
    "    \n",
    "**Repalce by frequency:**\n",
    "\n",
    "    \"num-of-doors\": 2 missing data, replace them with \"four\". \n",
    "        * Reason: 84% sedans is four doors, so by frequency way, replace them with \"four\"\n",
    "    \n",
    "**Replace based on other functions:**\n",
    "\n",
    "    \"bore\": 4 missing data, replace them by 2.75.\n",
    "        * Reason: we found, when \"num-of-cylinders\" = \"two\", \"bore\" =~ 2.75\n",
    "    \"horsepower\": 2 missing data, replace them by 110\n",
    "        * Reason: we found, when \"city-mpg\" = 23, \"horsepower\" =~ 110\n",
    "    \"peak-rpm\": 2 missing data, replace them by 5250\n",
    "        * Reason: we found, \"peak-rpm\" is based on \"horsepower\", when \"horsepower\" = 110, \"peak-rpm\" = 5250\n",
    "\n",
    "**Drop the whole row:**\n",
    "\n",
    "    \"price\": 4 missing data, simply delete the whole row\n",
    "        * Reason: because this is our target value"
   ]
  },
  {
   "cell_type": "code",
   "execution_count": null,
   "metadata": {
    "collapsed": false
   },
   "outputs": [],
   "source": [
    "# calculate the mean vaule for \"normalized-losses\" column\n",
    "avg_1 = df[\"normalized-losses\"].astype(\"float\").mean(axis = 0)\n",
    "\n",
    "# replace NaN by mean value in \"normalized-losses\" column\n",
    "df[\"normalized-losses\"].replace(np.nan, avg_1, inplace = True)"
   ]
  },
  {
   "cell_type": "markdown",
   "metadata": {},
   "source": [
    "<div class=\"alert alert-danger alertdanger\" style=\"margin-top: 20px\">\n",
    "<h1> Assignment #1: </h1>\n",
    "\n",
    "<b>According to the example above, replace NaN in \"stroke\" column by mean.</b>\n",
    "</div>"
   ]
  },
  {
   "cell_type": "code",
   "execution_count": null,
   "metadata": {
    "collapsed": true
   },
   "outputs": [],
   "source": [
    "# calculate the mean vaule for \"stoke\" column\n",
    "# type your code here\n",
    "\n",
    "# replace NaN by mean value in \"stoke\" column\n",
    "# type your code here"
   ]
  },
  {
   "cell_type": "markdown",
   "metadata": {},
   "source": [
    "<div class=\"alert alert-danger alertdanger\" style=\"margin-top: 20px\">\n",
    "<h1> Assignment #1 Answer: </h1>\n",
    "<b>Run the code below! Did you get the right code?</b>\n",
    "</div>"
   ]
  },
  {
   "cell_type": "markdown",
   "metadata": {},
   "source": [
    "<div class=\"alert alert-danger alertdanger\" style=\"margin-top: 20px\">\n",
    "<b><img src =https://app.box.com/representation/file_version_112831004501/image_2048/1.png></b>\n",
    "</div>"
   ]
  },
  {
   "cell_type": "code",
   "execution_count": null,
   "metadata": {
    "collapsed": true
   },
   "outputs": [],
   "source": [
    "# replace NaN in each column, by the unqiue values explained above\n",
    "df[\"num-of-doors\"].replace(np.nan, \"four\", inplace = True)\n",
    "df[\"bore\"].replace(np.nan, 2.75, inplace = True)\n",
    "df[\"horsepower\"].replace(np.nan, 110, inplace = True)\n",
    "df[\"peak-rpm\"].replace(np.nan, 5250, inplace = True)"
   ]
  },
  {
   "cell_type": "code",
   "execution_count": null,
   "metadata": {
    "collapsed": true
   },
   "outputs": [],
   "source": [
    "# simply drop whole row with NaN in \"price\" column\n",
    "df.dropna(subset=[\"price\"], axis=0, inplace = True)\n",
    "\n",
    "# reset index, because we droped two rows\n",
    "df.reset_index(drop = True, inplace = True)"
   ]
  },
  {
   "cell_type": "code",
   "execution_count": null,
   "metadata": {
    "collapsed": false
   },
   "outputs": [],
   "source": [
    "df.head()"
   ]
  },
  {
   "cell_type": "markdown",
   "metadata": {},
   "source": [
    "**Good!** Now, we obtain the dataset with no missing values."
   ]
  },
  {
   "cell_type": "markdown",
   "metadata": {
    "collapsed": false
   },
   "source": [
    "<a id=\"ref4\"></a>\n",
    "### Correct  data format\n",
    "**We are almost there!**\n",
    "\n",
    "After working with missing data,\n",
    "<div>The last step in data cleaning is checking and making sure that all data is in correct format (int, float, text or other).</div>\n",
    "\n",
    "In Pandas, we use \n",
    "<div>**.dtype()** to check the data type</div>\n",
    "<div>**.astype()** to change the data type</div>"
   ]
  },
  {
   "cell_type": "code",
   "execution_count": null,
   "metadata": {
    "collapsed": false
   },
   "outputs": [],
   "source": [
    "# list the data types for each column\n",
    "df.dtypes"
   ]
  },
  {
   "cell_type": "markdown",
   "metadata": {},
   "source": [
    "As we can see above, some column is not in correct data type. \n",
    "\n",
    "For example: column \"normalized-losses\" should be integer, while it shows it's object. The thing we have to do right now is converting data types into proper format by each column.  "
   ]
  },
  {
   "cell_type": "code",
   "execution_count": null,
   "metadata": {
    "collapsed": false
   },
   "outputs": [],
   "source": [
    "# convert data types to proper format\n",
    "df[[\"bore\", \"stroke\"]] = df[[\"bore\", \"stroke\"]].astype(\"float\")\n",
    "df[[\"normalized-losses\",\"horsepower\", \"peak-rpm\", \"price\"]] = df[[\"normalized-losses\",\"horsepower\", \"peak-rpm\", \"price\"]].astype(\"int\")"
   ]
  },
  {
   "cell_type": "code",
   "execution_count": null,
   "metadata": {
    "collapsed": false
   },
   "outputs": [],
   "source": [
    "# display first 5 rows of the cleaned dataset\n",
    "df.head(5)"
   ]
  },
  {
   "cell_type": "markdown",
   "metadata": {},
   "source": [
    "**Wonderful!**\n",
    "\n",
    "Now, we finally obtain the cleaned dataset with no missing values, and all data in its proper format.\n",
    "<div>This is the cleaned dataset we prepared for any further analysis later.</div>"
   ]
  },
  {
   "cell_type": "markdown",
   "metadata": {},
   "source": [
    "<a id=\"ref5\"></a>\n",
    "# Data Standardization\n",
    "**What is Standardization?**\n",
    "<div>Standardization is the process of implementing and developing technical standards based on the consensus of different parties.</div>\n",
    "\n",
    "**Example**\n",
    "<div>Transform mpg to L/100km:</div>\n",
    "<div>In our dataset, we can find column \"city-mpg\" and \"highway-mpg\" are shown with the unit mpg (miles per gallon), which are hard for people to understand. </div>\n",
    "<div>Why not transforming these into L/100km?</div>"
   ]
  },
  {
   "cell_type": "markdown",
   "metadata": {},
   "source": [
    "1 mpg = 235 L/100km\n",
    "<div>We can just do mathematical operations in Pandas.</div>"
   ]
  },
  {
   "cell_type": "code",
   "execution_count": null,
   "metadata": {
    "collapsed": false
   },
   "outputs": [],
   "source": [
    "# transform mpg to L/100km by mathematical operation (multiply by 235)\n",
    "df[\"city-mpg\"] = df[\"city-mpg\"]*235\n",
    "\n",
    "# rename column name from \"city-mpg\" to \"city-L/100km\"\n",
    "df.rename(columns={'city-mpg':'city-L/100km'}, inplace=True)\n",
    "\n",
    "# check your transformed data \n",
    "df.head()"
   ]
  },
  {
   "cell_type": "markdown",
   "metadata": {
    "collapsed": false
   },
   "source": [
    "<div class=\"alert alert-danger alertdanger\" style=\"margin-top: 20px\">\n",
    "<h1> Assignment #2: </h1>\n",
    "\n",
    "<b>According to the example above, transform mpg to L/100km in the column of \"highway-mpg\", and change the name of column to \"highway-L/100km\".</b>\n",
    "</div>"
   ]
  },
  {
   "cell_type": "code",
   "execution_count": null,
   "metadata": {
    "collapsed": true
   },
   "outputs": [],
   "source": [
    "# transform mpg to L/100km by mathematical operation (multiply by 235)\n",
    "# type your code here\n",
    "\n",
    "# rename column name from \"highway-mpg\" to \"highway-L/100km\"\n",
    "# type your code here\n",
    "\n",
    "# check your transformed data \n",
    "# type your code here"
   ]
  },
  {
   "cell_type": "markdown",
   "metadata": {
    "collapsed": true
   },
   "source": [
    "<div class=\"alert alert-danger alertdanger\" style=\"margin-top: 20px\">\n",
    "<h1> Assignment #2 Answer: </h1>\n",
    "<b>Run the code below! Did you get the right code?</b>\n",
    "</div>"
   ]
  },
  {
   "cell_type": "markdown",
   "metadata": {},
   "source": [
    "<div class=\"alert alert-danger alertdanger\" style=\"margin-top: 20px\">\n",
    "<b><img src = https://app.box.com/representation/file_version_113408643159/image_2048/1.png></b>\n",
    "</div>"
   ]
  },
  {
   "cell_type": "markdown",
   "metadata": {},
   "source": [
    "<a id=\"ref6\"></a>\n",
    "# Data normalization (centring/scaling)\n",
    "\n",
    "**Why normalization?**\n",
    "<div>normalization? is the process of organizing the columns (attributes) and tables (relations) of a relational database to reduce data redundancy and improve data integrity. </div>\n",
    "\n",
    "**How to normalize data?**\n",
    "<div>Normalization rescales the values into a range of [x, y] (usually [-0.5, 0.5] or [0, 1])</div>\n",
    "\n",
    "**Example**\n",
    "<div>Here gives a example of normalization of the column \"length\", \"width\" and \"height\", </div>\n",
    "<div>**Purpose:** we would like to normalizate those columns in the range of [0,1].</div>\n",
    "<div>**Approach:** replace (origianl value) by (original value)/(maximum value)</div>"
   ]
  },
  {
   "cell_type": "code",
   "execution_count": null,
   "metadata": {
    "collapsed": false
   },
   "outputs": [],
   "source": [
    "# replace (origianl value) by (original value)/(maximum value)\n",
    "df[[\"length\"]] = df[[\"length\"]].apply(lambda x: x/x.max() )\n",
    "df[[\"width\"]] = df[[\"width\"]].apply(lambda x: x/x.max() )"
   ]
  },
  {
   "cell_type": "markdown",
   "metadata": {},
   "source": [
    "<div class=\"alert alert-danger alertdanger\" style=\"margin-top: 20px\">\n",
    "<h1> Assignment #3: </h1>\n",
    "\n",
    "<b>According to the example above, normalize the column \"height\".</b>\n",
    "</div>"
   ]
  },
  {
   "cell_type": "code",
   "execution_count": null,
   "metadata": {
    "collapsed": true
   },
   "outputs": [],
   "source": [
    "# normalize column \"height\"\n",
    "# type your code here\n",
    "\n",
    "\n",
    "\n"
   ]
  },
  {
   "cell_type": "markdown",
   "metadata": {},
   "source": [
    "<div class=\"alert alert-danger alertdanger\" style=\"margin-top: 20px\">\n",
    "<h1> Assignment #3 Answer: </h1>\n",
    "<b>Run the code below! Did you get the right code?</b>\n",
    "</div>"
   ]
  },
  {
   "cell_type": "markdown",
   "metadata": {},
   "source": [
    "<div class=\"alert alert-danger alertdanger\" style=\"margin-top: 20px\">\n",
    "<b><img src =https://app.box.com/representation/file_version_112839030685/image_2048/1.png></b>\n",
    "</div>"
   ]
  },
  {
   "cell_type": "code",
   "execution_count": null,
   "metadata": {
    "collapsed": false
   },
   "outputs": [],
   "source": [
    "# show the scaled columns\n",
    "df[[\"length\",\"width\",\"height\"]].head()"
   ]
  },
  {
   "cell_type": "markdown",
   "metadata": {},
   "source": [
    "Here we can see, we've normalized \"length\", \"width\" and \"height\" in the range of [0,1]."
   ]
  },
  {
   "cell_type": "markdown",
   "metadata": {},
   "source": [
    "<a id=\"ref7\"></a>\n",
    "#  Bining\n",
    "**Why bining?:** \n",
    "<div>Data binning or bucketing is a data pre-processing technique used to reduce the effects of minor observation errors. </div>\n",
    "\n",
    "**Methodology:** \n",
    "<div>Statistical data binning is a way to group a number of more or less continuous values into a smaller number of \"bins\". </div>\n",
    "\n",
    "**Example:** \n",
    "<div>Accoding to this dataset, \"horsepower\" is a numerical variable range from 48 to 288, it has 57 unique values, hard for us to analyze.</div>\n",
    "<div>Can we rearrange them into a smaller number of intervals?</div>"
   ]
  },
  {
   "cell_type": "markdown",
   "metadata": {},
   "source": [
    "## Binning Data In Pandas"
   ]
  },
  {
   "cell_type": "code",
   "execution_count": null,
   "metadata": {
    "collapsed": false
   },
   "outputs": [],
   "source": [
    "# determine number of bins, which is 3 here\n",
    "binwidth = (max(df[\"horsepower\"])-min(df[\"horsepower\"]))/3\n",
    "\n",
    "# build bin array, from min value to max value, with binwidth caculated above\n",
    "bins = range(min(df[\"horsepower\"]), max(df[\"horsepower\"]), binwidth)\n",
    "\n",
    "# set group names\n",
    "group_names = ['Low', 'Medium', 'High']\n",
    "\n",
    "# add a new column that show the binned horsepower\n",
    "df['horsepower-binned'] = pd.cut(df['horsepower'], bins, labels=group_names)\n",
    "df.head(5)"
   ]
  },
  {
   "cell_type": "markdown",
   "metadata": {},
   "source": [
    "Check the dataframe above carefully, you will find the last column provides the bins for \"horsepower\" with 3 categories (\"Low\",\"Medium\" and \"High\"). \n",
    "<div>We successfully narrow the intervals from 57 to 3!</div>"
   ]
  },
  {
   "cell_type": "markdown",
   "metadata": {},
   "source": [
    "## Bins visualization \n",
    "Here we draw a bar chart to visulize the distribution of bins we created above."
   ]
  },
  {
   "cell_type": "code",
   "execution_count": null,
   "metadata": {
    "collapsed": false
   },
   "outputs": [],
   "source": [
    "%matplotlib inline\n",
    "import matplotlib as plt\n",
    "from matplotlib import pyplot\n",
    "\n",
    "a = (0,1,2)\n",
    "\n",
    "# draw historgram of attribute \"horsepower\" with bins = 3\n",
    "plt.pyplot.hist(df[\"horsepower\"], bins = 3)\n",
    "\n",
    "# set x/y labels and plot title\n",
    "plt.pyplot.xlabel(\"horsepower\")\n",
    "plt.pyplot.ylabel(\"count\")\n",
    "plt.pyplot.title(\"horsepower bins\")"
   ]
  },
  {
   "cell_type": "markdown",
   "metadata": {},
   "source": [
    "The plot above shows the binning result for attribute \"horsepower\". "
   ]
  },
  {
   "cell_type": "markdown",
   "metadata": {},
   "source": [
    "<a id=\"ref8\"></a>\n",
    "# Indicator variable (or dummy variable)\n",
    "**What is indicator variable?**\n",
    "<div>An indicator variable is one that takes the value 0 or 1 to indicate the absence or presence of some categorical effect that may be expected to shift the outcome.</div>\n",
    "\n",
    "**Example**\n",
    "<div>In this case, we find column \"fuel-type\" has two unique values, \"gas\" or \"diesel\". It is a great idea to convert them into numetical values 0 or 1, so that this attribute can be used in regression analysis.</div>"
   ]
  },
  {
   "cell_type": "code",
   "execution_count": null,
   "metadata": {
    "collapsed": false
   },
   "outputs": [],
   "source": [
    "# use .replace() method to convert \"gas\" to 0\n",
    "df[\"fuel-type\"].replace(\"gas\", 0, inplace = True)\n",
    "\n",
    "# use .replace() method to convert \"diesel\" to 1\n",
    "df[\"fuel-type\"].replace(\"diesel\", 1, inplace = True)\n",
    "\n",
    "# check your indicator variables\n",
    "df.head()"
   ]
  },
  {
   "cell_type": "markdown",
   "metadata": {},
   "source": [
    "As we can see, we use 0 and 1 to present the original value \"gas\" and \"diesel\" in the column of \"fuel-type\"."
   ]
  },
  {
   "cell_type": "markdown",
   "metadata": {
    "collapsed": true
   },
   "source": [
    "<div class=\"alert alert-danger alertdanger\" style=\"margin-top: 20px\">\n",
    "<h1> Assignment #4: </h1>\n",
    "\n",
    "<b>According to the example above, create indicator variable to the column of \"aspiration\": \"std\" to 0, while \"turbo\" to 1.</b>\n",
    "</div>"
   ]
  },
  {
   "cell_type": "code",
   "execution_count": null,
   "metadata": {
    "collapsed": true
   },
   "outputs": [],
   "source": [
    "# use .replace() method to convert \"std\" to 0\n",
    "# type your code here\n",
    "\n",
    "# use .replace() method to convert \"turbo\" to 1\n",
    "# type your code here\n",
    "\n",
    "# check your indicator variables\n",
    "# type your code here"
   ]
  },
  {
   "cell_type": "markdown",
   "metadata": {
    "collapsed": true
   },
   "source": [
    "<div class=\"alert alert-danger alertdanger\" style=\"margin-top: 20px\">\n",
    "<h1> Assignment #4 Answer: </h1>\n",
    "<b>Run the code below! Did you get the right code?</b>\n",
    "</div>"
   ]
  },
  {
   "cell_type": "markdown",
   "metadata": {},
   "source": [
    "<div class=\"alert alert-danger alertdanger\" style=\"margin-top: 20px\">\n",
    "<b><img src = https://app.box.com/representation/file_version_113408043352/image_2048/1.png></b>\n",
    "</div>\n"
   ]
  },
  {
   "cell_type": "markdown",
   "metadata": {},
   "source": [
    "# Excellent! You have just completed the  Data Wrangling notebook! "
   ]
  },
  {
   "cell_type": "markdown",
   "metadata": {
    "collapsed": true
   },
   "source": [
    "# End of Module 2"
   ]
  },
  {
   "cell_type": "markdown",
   "metadata": {},
   "source": [
    "### About the Authors:  \n",
    "Hi! It's [Ke Xing](https://ca.linkedin.com/in/ke-xing-1987a3b0) and [Parizad Sajedi](https://ca.linkedin.com/in/parizad-sajedi-080172127). We're the authors of this notebook. We hope you enjoyed this topic on Data Wrangling in Python! There's lots more to learn about this topic but you're well on your way. Feel free to connect with us if you have any questions."
   ]
  }
 ],
 "metadata": {
  "kernelspec": {
   "display_name": "Python 2",
   "language": "python",
   "name": "python2"
  },
  "language_info": {
   "codemirror_mode": {
    "name": "ipython",
    "version": 2
   },
   "file_extension": ".py",
   "mimetype": "text/x-python",
   "name": "python",
   "nbconvert_exporter": "python",
   "pygments_lexer": "ipython2",
   "version": "2.7.12"
  },
  "widgets": {
   "state": {},
   "version": "1.1.2"
  }
 },
 "nbformat": 4,
 "nbformat_minor": 0
}
